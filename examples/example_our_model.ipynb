{
 "cells": [
  {
   "cell_type": "code",
   "execution_count": 2,
   "metadata": {
    "tags": []
   },
   "outputs": [],
   "source": [
    "import os\n",
    "import pathlib\n",
    "import time\n",
    "import numpy as np\n",
    "import pyyellin as yell\n",
    "\n",
    "from pathlib import Path"
   ]
  },
  {
   "cell_type": "code",
   "execution_count": 3,
   "metadata": {
    "collapsed": false,
    "jupyter": {
     "outputs_hidden": false
    },
    "pycharm": {
     "name": "#%%\n"
    }
   },
   "outputs": [
    {
     "name": "stdout",
     "output_type": "stream",
     "text": [
      "Loop number = 1 / 5\n",
      "mass = 1.0 GeV\n",
      "m_chi: 1.0 GeV\n",
      "max(energies_x_min_3): 0.8163\n",
      "Acceptable mu_bar can be found for this mass in this mu interval.\n",
      "0.968152334152342 0.9658958333333334\n",
      "mu_bar =  9.659100223221179\n",
      "sigma_bar =  0.000278655754733366\n",
      "Loop number = 2 / 5\n",
      "mass = 3.1622776601683795 GeV\n",
      "m_chi: 3.1622776601683795 GeV\n",
      "max(energies_x_min_3): 6.2163\n",
      "This mu interval is not suited for this mass, hence all cmax values seem to be below 90%.\n",
      "Loop number = 3 / 5\n",
      "mass = 10.0 GeV\n",
      "m_chi: 10.0 GeV\n",
      "max(energies_x_min_3): 32.6163\n",
      "Acceptable mu_bar can be found for this mass in this mu interval.\n",
      "0.9618434538434619 0.9615384615384616\n",
      "mu_bar =  9.160165895795675\n",
      "sigma_bar =  5.160521964256254e-06\n",
      "Loop number = 4 / 5\n",
      "mass = 31.622776601683793 GeV\n",
      "m_chi: 31.622776601683793 GeV\n",
      "max(energies_x_min_3): 106.5163\n",
      "Acceptable mu_bar can be found for this mass in this mu interval.\n",
      "0.945481221481229 0.925\n",
      "mu_bar =  3.415728472298978\n",
      "sigma_bar =  1.0694856164869887e-06\n",
      "Loop number = 5 / 5\n",
      "mass = 100.0 GeV\n",
      "m_chi: 100.0 GeV\n",
      "max(energies_x_min_3): 315.3663\n",
      "Acceptable mu_bar can be found for this mass in this mu interval.\n",
      "0.9006654966655039 0.8960000000000001\n",
      "mu_bar =  2.7774953468292924\n",
      "sigma_bar =  1.7316368121330913e-06\n"
     ]
    }
   ],
   "source": [
    "m_chi = np.geomspace(1., 100., 5)  # Define masses.\n",
    "sample_size = 10000  # Define sample size for rvs functions.\n",
    "materials = [[40.078, 40.078/287.914, 'Ca', Path(os.getcwd() + '\\example_data\\cresst_III\\C3P1_DetA_eff_AR_Ca.dat')],\n",
    "             [183.84, 183.84/287.914, 'W', Path(os.getcwd() + '\\example_data\\cresst_III\\C3P1_DetA_eff_AR_W.dat')],\n",
    "             [15.999, 15.999*4/287.914, 'O', Path(os.getcwd() + '\\example_data\\cresst_III\\C3P1_DetA_eff_AR_O.dat')]]  # Define the materials of the detector.\n",
    "omega = yell.ModeLimit()  # Create instance\n",
    "omega.set_detector(5.689, 0.0046, 0.0301, materials, 16., 0.0005)  # Set detector parameters exposure, resolution, threshold, materials, upper integral limit and energy grid step size.\n",
    "omega.set_cut_eff(Path(os.getcwd() + '\\example_data\\cresst_III\\C3P1_DetA_cuteff.dat'))  # Set the path for the cut efficiency data.\n",
    "omega.set_masses(m_chi)  # Set dark matter masses.\n",
    "omega.set_sampling_size(sample_size)  # Set sample size. Optional, only needed for rvs functions.\n",
    "omega.set_sigma_interval(1e-6, 1e-2)  # Set the min and max values for cross-sections (σ).\n",
    "omega.set_mu_interval(0.25, 50, 1000)  # Set the min and max values for μ. Max(μ) should be around Max(mus).\n",
    "# item_list = omega.calculate_items()  # Optional. Declare the results you want to be returned. Parameters (boolean): pdf, cdf, samples, pdf_sum, cdf_sum, samples_sum, pdf_sum_convoluted, cdf_sum_convoluted, samples_sum_convoluted, mus.\n",
    "omega.set_confidence_level(0.9)  # Set confidence level.\n",
    "omega.get_data(Path(os.getcwd() + '\\example_data\\cresst_III\\C3P1_DetA_AR.dat'))  # Set the path for data.\n",
    "omega.set_table_and_results_paths(Path(os.getcwd() + '/table_data/'), Path(os.getcwd() + '/results/'))\n",
    "omega.set_table_variables(False, 100, 'table')  # Set whether or not you want to create a new table, how many lists there should be per mu and the path for tabulated data.\n",
    "omega.get_limit()  # Call the function to determine limit values."
   ]
  },
  {
   "cell_type": "code",
   "execution_count": null,
   "outputs": [],
   "source": [
    "omega.masses_for_plot"
   ],
   "metadata": {
    "collapsed": false,
    "pycharm": {
     "name": "#%%\n"
    }
   }
  },
  {
   "cell_type": "code",
   "execution_count": null,
   "outputs": [],
   "source": [],
   "metadata": {
    "collapsed": false,
    "pycharm": {
     "name": "#%%\n"
    }
   }
  }
 ],
 "metadata": {
  "kernelspec": {
   "display_name": "Python 3 (ipykernel)",
   "language": "python",
   "name": "python3"
  },
  "language_info": {
   "codemirror_mode": {
    "name": "ipython",
    "version": 3
   },
   "file_extension": ".py",
   "mimetype": "text/x-python",
   "name": "python",
   "nbconvert_exporter": "python",
   "pygments_lexer": "ipython3",
   "version": "3.9.12"
  }
 },
 "nbformat": 4,
 "nbformat_minor": 4
}